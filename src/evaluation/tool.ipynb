{
 "cells": [
  {
   "cell_type": "code",
   "execution_count": null,
   "metadata": {},
   "outputs": [
    {
     "name": "stdout",
     "output_type": "stream",
     "text": [
      "    size_gb  naive_time_colab  list_time_colab  naive_time_local  \\\n",
      "0  0.000977          0.012380         0.004184          0.012002   \n",
      "1  0.009766          0.080072         0.035882          0.033000   \n",
      "2  0.097656          0.798414         0.372331          0.289671   \n",
      "3  0.488281          3.500555         1.786300          1.369028   \n",
      "4  1.000000          7.659326         3.685310          2.811886   \n",
      "5  2.000000         15.477072         7.934099          5.548780   \n",
      "6  4.000000         30.564488        29.654119         11.107122   \n",
      "\n",
      "   list_time_local  naive_time_avg  list_time_avg  \n",
      "0         0.001997        0.012191       0.003091  \n",
      "1         0.026522        0.056536       0.031202  \n",
      "2         0.310049        0.544042       0.341190  \n",
      "3         1.426090        2.434791       1.606195  \n",
      "4         2.983896        5.235606       3.334603  \n",
      "5         5.785324       10.512926       6.859711  \n",
      "6        11.655452       20.835805      20.654785  \n"
     ]
    }
   ],
   "source": [
    "import pandas as pd\n",
    "\n",
    "df_colab = pd.read_csv(\"results_colab.csv\")\n",
    "df_local = pd.read_csv(\"results_local.csv\")\n",
    "\n",
    "df_merged = pd.merge(df_colab, df_local, on=\"size_gb\", suffixes=(\"_colab\", \"_local\"))\n",
    "\n",
    "df_merged[\"naive_time_avg\"] = (df_merged[\"naive_time_colab\"] + df_merged[\"naive_time_local\"]) / 2\n",
    "df_merged[\"list_time_avg\"] = (df_merged[\"list_time_colab\"] + df_merged[\"list_time_local\"]) / 2\n",
    "\n",
    "df_merged.to_csv(\"results_merged.csv\", index=False)\n",
    "\n",
    "print(df_merged)"
   ]
  },
  {
   "cell_type": "code",
   "execution_count": null,
   "id": "3b80dbc1",
   "metadata": {},
   "outputs": [],
   "source": []
  }
 ],
 "metadata": {
  "kernelspec": {
   "display_name": "Python 3",
   "language": "python",
   "name": "python3"
  },
  "language_info": {
   "codemirror_mode": {
    "name": "ipython",
    "version": 3
   },
   "file_extension": ".py",
   "mimetype": "text/x-python",
   "name": "python",
   "nbconvert_exporter": "python",
   "pygments_lexer": "ipython3",
   "version": "3.11.11"
  }
 },
 "nbformat": 4,
 "nbformat_minor": 5
}
